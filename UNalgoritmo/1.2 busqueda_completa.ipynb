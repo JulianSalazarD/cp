{
 "cells": [
  {
   "cell_type": "markdown",
   "metadata": {},
   "source": [
    "# 1\\) Fuerza Bruta\n",
    "La técnica de fuerza bruta es un enfoque directo para resolver problemas en programación que implica probar todas las posibles soluciones hasta encontrar la correcta. Aunque a menudo no es la solución más eficiente, es fácil de implementar y puede ser útil para problemas con un espacio de búsqueda pequeño o cuando se necesitan soluciones rápidas y simples."
   ]
  },
  {
   "cell_type": "markdown",
   "metadata": {},
   "source": [
    "### subconjuntos (subsets)\n",
    "\n",
    "número de subconjuntos de un conjunto con $n$ elementos: &2^n-1&  \n",
    "Complejidad: $O(2^n)$"
   ]
  },
  {
   "cell_type": "code",
   "execution_count": 2,
   "metadata": {},
   "outputs": [
    {
     "name": "stdout",
     "output_type": "stream",
     "text": [
      "[]\n",
      "['a']\n",
      "['b']\n",
      "['a', 'b']\n",
      "['c']\n",
      "['a', 'c']\n",
      "['b', 'c']\n",
      "['a', 'b', 'c']\n"
     ]
    }
   ],
   "source": [
    "\n",
    "nums = ['a', 'b', 'c']\n",
    "n = len(nums)\n",
    "\n",
    "for i in range(1 << n): # 1 << n is 2^n\n",
    "    subset = []\n",
    "    for j in range(n):\n",
    "        if i & (1 << j):\n",
    "            subset.append(nums[j])\n",
    "    print(subset)"
   ]
  },
  {
   "cell_type": "markdown",
   "metadata": {},
   "source": [
    "### Permutaciones\n",
    "\n",
    "numero de permutaciones de $n$ elementos: $n!$\n"
   ]
  },
  {
   "cell_type": "code",
   "execution_count": 2,
   "metadata": {},
   "outputs": [
    {
     "name": "stdout",
     "output_type": "stream",
     "text": [
      "1 2 3\n",
      "1 3 2\n",
      "2 1 3\n",
      "2 3 1\n",
      "3 1 2\n",
      "3 2 1\n"
     ]
    }
   ],
   "source": [
    "#permutaciones en python #permite repeticiones (usar set)\n",
    "from itertools import permutations\n",
    "\n",
    "nums = [1, 2, 3]\n",
    "per = set(permutations(nums))\n",
    "for p in permutations(nums):\n",
    "    print(*p)\n",
    "\n"
   ]
  },
  {
   "cell_type": "code",
   "execution_count": 3,
   "metadata": {},
   "outputs": [
    {
     "name": "stdout",
     "output_type": "stream",
     "text": [
      "1 2 3\n",
      "1 3 2\n",
      "2 1 3\n",
      "2 3 1\n",
      "3 1 2\n",
      "3 2 1\n"
     ]
    }
   ],
   "source": [
    "//las permutaciones deben estar ordenadas, si no solo mostrara desde esa permutacion para abajo\n",
    "#include <bits/stdc++.h>\n",
    "using namespace std;\n",
    "int main{\n",
    "    vector<int> nums = {1,2,3};\n",
    "    sort(all(nums));\n",
    "    do{\n",
    "        for(int n: nums){\n",
    "            cout<<n<<\" \";\n",
    "        }\n",
    "        cout << el\n",
    "}while(next_permutation(all(nums)));\n",
    "    return 0;\n",
    "}"
   ]
  },
  {
   "cell_type": "code",
   "execution_count": 1,
   "metadata": {},
   "outputs": [],
   "source": [
    "#include <iostream>\n",
    "using namespace std;"
   ]
  },
  {
   "cell_type": "code",
   "execution_count": 2,
   "metadata": {},
   "outputs": [],
   "source": [
    "// en c++ deben estar ordenados para que funcione si no se tomaraan desde la permutacion que se encuentre\n",
    "int perm(){\n",
    "    vector<int> nums = {1,2,3};\n",
    "    sort(nums.begin(), nums.end());\n",
    "    do{\n",
    "        for(int n: nums){\n",
    "            cout<<n<<\" \";\n",
    "        }\n",
    "        cout << endl;\n",
    "}while(next_permutation(nums.begin(), nums.end()));\n",
    "    return 0;\n",
    "}"
   ]
  },
  {
   "cell_type": "code",
   "execution_count": 3,
   "metadata": {},
   "outputs": [
    {
     "name": "stdout",
     "output_type": "stream",
     "text": [
      "1 2 3 \n",
      "1 3 2 \n",
      "2 1 3 \n",
      "2 3 1 \n",
      "3 1 2 \n",
      "3 2 1 \n"
     ]
    }
   ],
   "source": [
    "perm();"
   ]
  },
  {
   "cell_type": "markdown",
   "metadata": {},
   "source": [
    "### Meet in the middle\n",
    "El enfoque \"Meet in the Middle\" (MitM) es una técnica algorítmica utilizada para resolver problemas de búsqueda y optimización que pueden ser difíciles de abordar mediante métodos tradicionales debido a su alta complejidad. Esta técnica es particularmente útil para problemas de suma de subconjuntos, problemas de combinación, y en criptografía.\n",
    "\n",
    "La idea principal detrás del enfoque \"Meet in the Middle\" es dividir el problema en dos partes más pequeñas, resolver ambas partes por separado, y luego combinar las soluciones de estas dos partes para obtener la solución final. Este enfoque puede reducir significativamente el tiempo de ejecución de problemas que originalmente tienen una complejidad exponencial."
   ]
  },
  {
   "cell_type": "markdown",
   "metadata": {},
   "source": [
    "# backtraking\n",
    "El backtracking (retroceso o vuelta atrás) es una técnica algorítmica utilizada para resolver problemas de toma de decisiones y optimización en los que se necesita explorar todas las posibles soluciones. La idea principal del backtracking es construir una solución de manera incremental y retroceder (\"backtrack\") cuando se detecta que la solución parcial no puede llevar a una solución válida.\n",
    "\n",
    "### concepto\n",
    "El backtracking puede visualizarse como un árbol de decisiones, donde cada nodo representa una decisión parcial, y las ramas representan elecciones posibles. Si en algún punto una elección no lleva a una solución válida, el algoritmo retrocede al nodo anterior y prueba una elección diferente."
   ]
  },
  {
   "cell_type": "markdown",
   "metadata": {},
   "source": [
    "### Problema de las N Reinas\n",
    "\n",
    "El problema de las N reinas consiste en colocar N reinas en un tablero de ajedrez N x N de manera que ninguna reina pueda atacar a otra. Esto significa que no pueden compartir la misma fila, columna o diagonal."
   ]
  },
  {
   "cell_type": "code",
   "execution_count": 1,
   "metadata": {},
   "outputs": [],
   "source": [
    "from typing import List"
   ]
  },
  {
   "cell_type": "code",
   "execution_count": 2,
   "metadata": {},
   "outputs": [],
   "source": [
    "def valid(queen: List[int], queen_column: int, queen_row: int):\n",
    "    for column in range(queen_column):\n",
    "        if queen[column] == queen_row or abs(queen[column] - queen_row) == queen_column - column:\n",
    "            return False\n",
    "        \n",
    "    return True "
   ]
  },
  {
   "cell_type": "code",
   "execution_count": 3,
   "metadata": {},
   "outputs": [],
   "source": [
    "def backtracking(n:int, queen: List[int]):\n",
    "    _backtracking(n, queen)\n",
    "\n",
    "def _backtracking(n:int, queen: List[int], step=0):\n",
    "    if step == n:\n",
    "        print(*queen)\n",
    "        return\n",
    "    for row in range(n):\n",
    "        if valid(queen, step, row):\n",
    "            queen[step] = row\n",
    "            _backtracking(n, queen, step+1)"
   ]
  },
  {
   "cell_type": "code",
   "execution_count": 4,
   "metadata": {},
   "outputs": [
    {
     "name": "stdout",
     "output_type": "stream",
     "text": [
      "1 3 0 2\n",
      "2 0 3 1\n"
     ]
    }
   ],
   "source": [
    "n = 4\n",
    "queen = [0] * n\n",
    "\n",
    "backtracking(n, queen)"
   ]
  }
 ],
 "metadata": {
  "kernelspec": {
   "display_name": "cling",
   "language": "python",
   "name": "python3"
  },
  "language_info": {
   "codemirror_mode": {
    "name": "ipython",
    "version": 3
   },
   "file_extension": ".py",
   "mimetype": "text/x-python",
   "name": "python",
   "nbconvert_exporter": "python",
   "pygments_lexer": "ipython3",
   "version": "3.12.3"
  }
 },
 "nbformat": 4,
 "nbformat_minor": 2
}
