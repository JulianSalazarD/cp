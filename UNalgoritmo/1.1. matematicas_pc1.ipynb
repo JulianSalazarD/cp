{
 "cells": [
  {
   "cell_type": "markdown",
   "metadata": {},
   "source": [
    "# 1\\) Exponenciación binaría\n",
    "\n",
    "Algoritmo eficiente para calcular potencias de números enteros.\n",
    "\n",
    "Exponecniacion : $O(n)$\n",
    "\n",
    "exponenciación binaria: $O(lg n)$\n"
   ]
  },
  {
   "cell_type": "markdown",
   "metadata": {},
   "source": [
    "### Algoritmo\n",
    "\n",
    "La idea básica es descomponer el exponente en su representación binaria y utilizar las propiedades de las potencias de 2. El algoritmo funciona de manera iterativa o recursiva, multiplicando la base por sí misma y reduciendo el exponente a la mitad en cada paso."
   ]
  },
  {
   "cell_type": "markdown",
   "metadata": {},
   "source": [
    "$$13=(1101) = (2^0)+(2^2)+(2^3)$$\n",
    "$$3^{13}$$\n",
    "$$3^{13}=3^{1101}$$\n",
    "$$3^{13}=3^{1+4+8}$$\n",
    "$$3^{13} = 3^1+3^4+3^8$$\n"
   ]
  },
  {
   "cell_type": "markdown",
   "metadata": {},
   "source": [
    "Dividimos el exponente en su representación binaría y gracias a esto lo podemos calcular de la siguiente forma:\n",
    "\n",
    "$$3^1=3$$\n",
    "$$3^2=(3^1)^2=3^2=9$$\n",
    "$$3^4=(3^2)^2=9^2=81$$\n",
    "$$3^8=(3^4)^2=81^2=6561$$\n",
    "$$3^{13} = 3 \\cdot 9 \\cdot 81 \\cdot 6561 = 1594323$$\n"
   ]
  },
  {
   "cell_type": "code",
   "execution_count": 7,
   "metadata": {},
   "outputs": [],
   "source": [
    "def binpow(base, exp):\n",
    "    res = 1\n",
    "    while exp > 0:\n",
    "        if exp & 1:\n",
    "            res *= base\n",
    "        base = base * base\n",
    "        exp >>= 1\n",
    "    return res"
   ]
  },
  {
   "cell_type": "code",
   "execution_count": 8,
   "metadata": {},
   "outputs": [
    {
     "name": "stdout",
     "output_type": "stream",
     "text": [
      "1594323\n"
     ]
    }
   ],
   "source": [
    "print(binpow(3, 13))"
   ]
  },
  {
   "cell_type": "markdown",
   "metadata": {},
   "source": [
    "*nota:* python ya implementa binpow con el operador ** mientras c++ lo hace de manera lineal"
   ]
  },
  {
   "cell_type": "markdown",
   "metadata": {},
   "source": [
    "# 2\\) Inverso modular\n",
    "recuentemente en programación competitiva para resolver problemas que involucran operaciones modulares. El inverso modular de un número aa módulo mm es un número $x$ tal que:\n",
    "\n",
    "$$a \\cdot x≡1 (\\mod m)a \\cdot x≡1 (\\mod m)$$\n",
    "\n",
    "En otras palabras, $x$ es el inverso multiplicativo de $a$ bajo el módulo $m$."
   ]
  },
  {
   "cell_type": "markdown",
   "metadata": {},
   "source": [
    "un ejemplo es siq queremos realizar: $$\\frac{108 \\mod 7}{9 \\mod 7} \\mod 7$$\n",
    "\n",
    "si realizamos el calculo $$\\frac{3}{2}\\mod 7 = 1.5$$ No es correcto, la respuesta es 5. Debemos realizar la solución de la siguiente manera\n",
    "\n",
    "$$(a \\cdot b^{-1})\\mod p$$ \n",
    "donde \n",
    "$$b^{p-1} \\mod p = 1 \\to$$\n",
    "$$b^{-1} = b^{p-2}\\mod p$$\n",
    "esta ecuacion se puede resolver si y solo si $p$ es primo y $gcd(b,p) = 1$. Quedando\n",
    "$$(a \\cdot b^{p-2}\\mod p)\\mod p$$"
   ]
  },
  {
   "cell_type": "code",
   "execution_count": 12,
   "metadata": {},
   "outputs": [],
   "source": [
    "# calculaar b^p-2\n",
    "def powmod(base, exp, mod):\n",
    "    res = 1\n",
    "    while exp > 0:\n",
    "        if exp & 1:\n",
    "            res = (res * base) % mod\n",
    "        base = (base * base) % mod\n",
    "        exp >>= 1\n",
    "    return res\n",
    "def invmod(number, mod):\n",
    "    return powmod(number, mod-2,mod)"
   ]
  },
  {
   "cell_type": "code",
   "execution_count": 13,
   "metadata": {},
   "outputs": [],
   "source": [
    "# division que viene de un modulo\n",
    "def divmod(a, b, mod):\n",
    "    return (a * invmod(b, mod)) % mod"
   ]
  },
  {
   "cell_type": "code",
   "execution_count": 15,
   "metadata": {},
   "outputs": [
    {
     "name": "stdout",
     "output_type": "stream",
     "text": [
      "5\n"
     ]
    }
   ],
   "source": [
    "print(divmod(3, 2, 7))"
   ]
  },
  {
   "cell_type": "markdown",
   "metadata": {},
   "source": [
    "# 3\\) Criba de Eratóstenes\n",
    "La criba de Eratóstenes es un algoritmo eficiente para encontrar todos los números primos menores que un número dado $n$.\n",
    "\n",
    "### Algoritmo\n",
    "\n",
    "    1- Crear una lista de números desde 2 hasta nn.\n",
    "    2- Comenzar con el primer número primo (2).\n",
    "    3- Marcar todos los múltiplos de 2 (excepto 2) como no primos.\n",
    "    4- Encontrar el siguiente número no marcado en la lista, este será el siguiente número primo.\n",
    "    5- Repetir los pasos 3 y 4 hasta que hayas procesado todos los números en la lista.\n",
    "\n",
    "### Complejidad\n",
    "\n",
    "Temporal: O(nlog⁡log⁡n)O(nloglogn)  \n",
    "Espacial: O(n)O(n)"
   ]
  },
  {
   "cell_type": "code",
   "execution_count": 17,
   "metadata": {},
   "outputs": [],
   "source": [
    "def sieve(n: int):\n",
    "    is_prime = [True] * (n + 1)\n",
    "    is_prime[0] = is_prime[1] = False\n",
    "    for i in range(2,n+1):\n",
    "        if is_prime:\n",
    "            for j in range(i*i, n+1, i):\n",
    "                is_prime[j] = False\n",
    "    return is_prime\n",
    "    "
   ]
  },
  {
   "cell_type": "code",
   "execution_count": 25,
   "metadata": {},
   "outputs": [
    {
     "name": "stdout",
     "output_type": "stream",
     "text": [
      "[2, 3, 5, 7, 11, 13, 17, 19, 23, 29, 31, 37, 41, 43, 47, 53, 59, 61, 67, 71, 73, 79, 83, 89, 97]\n"
     ]
    }
   ],
   "source": [
    "x = 100\n",
    "prime = sieve(x)\n",
    "primes = [i for i in range(2,x+1) if prime[i]]\n",
    "print(primes)"
   ]
  },
  {
   "cell_type": "markdown",
   "metadata": {},
   "source": [
    "### Prueba de primalidad  \n",
    "La forma más simple de probar la primalidad es verificar si el número dado $n$ es divisible por algún número entero entre $2$ y $\\sqrt(n)$ usando solo los numeros primos.\n"
   ]
  },
  {
   "cell_type": "code",
   "execution_count": 23,
   "metadata": {},
   "outputs": [],
   "source": [
    "def is_prime(N: int):\n",
    "    if N < len(prime):\n",
    "     return primes[N]\n",
    "    for p in primes:\n",
    "        if p*p > N:\n",
    "            break\n",
    "        if N % p == 0:\n",
    "            return False\n",
    "    return True"
   ]
  },
  {
   "cell_type": "code",
   "execution_count": 26,
   "metadata": {},
   "outputs": [
    {
     "name": "stdout",
     "output_type": "stream",
     "text": [
      "True\n"
     ]
    }
   ],
   "source": [
    "x = 1009\n",
    "print(is_prime(x))"
   ]
  },
  {
   "cell_type": "markdown",
   "metadata": {},
   "source": [
    "### Descomposición en factores primos\n",
    "El teorema fundamental de la aritmética nos asegura que todos los numeros s epueden escribir como un producto de potencias de números primos.\n",
    "\n",
    "Un algoritmo para realizar esto de forma esficiente es recorrer una lista de primos en orden, el algoritmo termina cuando el numero es 1 o primo\n"
   ]
  },
  {
   "cell_type": "code",
   "execution_count": 27,
   "metadata": {},
   "outputs": [],
   "source": [
    "def prime_factors(N: int):\n",
    "    factors = []\n",
    "    for p in primes:\n",
    "        if p*p > N:\n",
    "            break\n",
    "        while N % p == 0:\n",
    "            factors.append(p)\n",
    "            N //= p\n",
    "    if N > 1:\n",
    "        factors.append(N)\n",
    "    return factors"
   ]
  },
  {
   "cell_type": "code",
   "execution_count": 29,
   "metadata": {},
   "outputs": [
    {
     "name": "stdout",
     "output_type": "stream",
     "text": [
      "2 2 3 3 5\n"
     ]
    }
   ],
   "source": [
    "print(*prime_factors(180))"
   ]
  },
  {
   "cell_type": "markdown",
   "metadata": {},
   "source": [
    "### contar el numero de divisores\n",
    "con la descomposición en factores primos podemos encontrar el número de sus divisores de a siguiente forma: si $N = p1^i\\cdot p2^j \\cdot ... \\cdot pn^k$ entonces $N$ tendrá $(i+1)\\cdot (j+1) \\cdot ... \\cdot(k+1)$ divisores. Esto es debido a que existen i+1 de seleccionar el factor primo $p1$ con $p1^0, p1^1,...,p1^i$, lo mismo para todos los demas factores. "
   ]
  },
  {
   "cell_type": "code",
   "execution_count": 41,
   "metadata": {},
   "outputs": [],
   "source": [
    "def num_div(N: int):\n",
    "    ans = 1\n",
    "    for p in primes:\n",
    "        if p*p > N:\n",
    "            break\n",
    "        exp = 0\n",
    "        while N % p == 0:\n",
    "            exp += 1\n",
    "            N //= p\n",
    "        ans *= exp + 1\n",
    "    if N > 1:\n",
    "        ans *= 2\n",
    "    return ans"
   ]
  },
  {
   "cell_type": "code",
   "execution_count": 42,
   "metadata": {},
   "outputs": [
    {
     "name": "stdout",
     "output_type": "stream",
     "text": [
      "9\n"
     ]
    }
   ],
   "source": [
    "print(num_div(36))                              "
   ]
  },
  {
   "cell_type": "markdown",
   "metadata": {},
   "source": [
    "### suma de los divisores de un número\n",
    "Si un numero tiene facores primos de la forma $N = p1^i\\cdot p2^j \\cdot ... \\cdot pn^k$ entonces la suma de los divisores de $N$ es:\n",
    "$$\\sum_{e=0}^{i}p1^e\\times \\sum_{e=0}^{j}p2^e\\times ... \\times \\sum_{e=0}^{k}pn^e$$"
   ]
  },
  {
   "cell_type": "code",
   "execution_count": 43,
   "metadata": {},
   "outputs": [],
   "source": [
    "def sumDiv(N):\n",
    "    ans = 1\n",
    "    for p in primes:\n",
    "        if p*p > N:\n",
    "            break \n",
    "        multiplier = p\n",
    "        total = 1\n",
    "        while N % p == 0:\n",
    "            total += multiplier\n",
    "            multiplier *= p\n",
    "            N //= p\n",
    "        ans *= total\n",
    "    if N != 1:\n",
    "        ans += (N+1)\n",
    "    return ans"
   ]
  },
  {
   "cell_type": "code",
   "execution_count": 44,
   "metadata": {},
   "outputs": [
    {
     "name": "stdout",
     "output_type": "stream",
     "text": [
      "91\n"
     ]
    }
   ],
   "source": [
    "print(sumDiv(36))"
   ]
  }
 ],
 "metadata": {
  "kernelspec": {
   "display_name": "cling",
   "language": "python",
   "name": "python3"
  },
  "language_info": {
   "codemirror_mode": {
    "name": "ipython",
    "version": 3
   },
   "file_extension": ".py",
   "mimetype": "text/x-python",
   "name": "python",
   "nbconvert_exporter": "python",
   "pygments_lexer": "ipython3",
   "version": "3.12.3"
  }
 },
 "nbformat": 4,
 "nbformat_minor": 2
}
