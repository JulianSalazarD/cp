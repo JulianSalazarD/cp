{
 "cells": [
  {
   "cell_type": "markdown",
   "metadata": {},
   "source": [
    "# Flood Fill\n",
    "### Terminología Básica\n",
    "- Vértices (nodos): Representan los objetos.\n",
    "- Aristas (enlaces, arcos): Representan las conexiones entre los objetos.\n",
    "- Grafo dirigido: Las aristas tienen una dirección, es decir, van de un vértice a otro.\n",
    "- Grafo no dirigido: Las aristas no tienen dirección.\n",
    "- Grafo ponderado: Las aristas tienen pesos que representan el costo o la distancia entre los vértices.\n",
    "- Grafo no ponderado: Las aristas no tienen pesos.\n",
    "\n",
    "### epresentación de Grafos\n",
    "\n",
    "Existen varias maneras de representar grafos en programación:\n",
    "\n",
    "1. Lista de Adyacencia: Utiliza un array de listas. Cada índice del array representa un vértice, y la lista en ese índice contiene los vértices adyacentes.\n",
    "2. Matriz de Adyacencia: Utiliza una matriz 2D. La entrada en la posición (i,j)(i,j) es 1 si hay una arista entre los vértices ii y jj, y 0 en caso contrario.\n",
    "3. Lista de Aristas: Una lista de pares (o tuplas) que representan las aristas del grafo."
   ]
  },
  {
   "cell_type": "markdown",
   "metadata": {},
   "source": [
    "\n",
    "[Diapositivas](resources/pdf/Grafos1.pdf)"
   ]
  },
  {
   "cell_type": "code",
   "execution_count": 1,
   "metadata": {
    "vscode": {
     "languageId": "cpp"
    }
   },
   "outputs": [],
   "source": [
    "#include <iostream>\n",
    "\n",
    "using namespace std;"
   ]
  },
  {
   "cell_type": "code",
   "execution_count": null,
   "metadata": {
    "vscode": {
     "languageId": "cpp"
    }
   },
   "outputs": [],
   "source": [
    "//matriz de adyacencia\n",
    "vector<vector<int>> matrix(n, vector<int>(n, 0));\n",
    "cin>>a>>b;\n",
    "matrix[a][b] = true;\n",
    "\n",
    "//otra forma\n",
    "vector<vector<int>> matrix2{\n",
    "    {1, 0, 0},\n",
    "    {0, 1, 0},\n",
    "    {0, 0, 1}\n",
    "};"
   ]
  }
 ],
 "metadata": {
  "kernelspec": {
   "display_name": "C++17",
   "language": "C++17",
   "name": "xcpp17"
  },
  "language_info": {
   "codemirror_mode": "text/x-c++src",
   "file_extension": ".cpp",
   "mimetype": "text/x-c++src",
   "name": "c++",
   "version": "17"
  }
 },
 "nbformat": 4,
 "nbformat_minor": 2
}
