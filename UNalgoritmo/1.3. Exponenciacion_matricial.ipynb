{
 "cells": [
  {
   "cell_type": "markdown",
   "metadata": {},
   "source": [
    "# Exponenciación matricial\n",
    "### Multiplicación de matrices \n",
    "\n",
    "La multiplicación de una matriz A de tamaño axn por una matriz B de tamaño nxb da como resultado una matriz AB una matriz de tamaño axb. Donde cada posición $AB[i][j]$ se calcula de la siguiente forma:\n",
    "\n",
    "$$\n",
    "\\text{AB}[i,j] = \\sum_{k=1}^{n} A[i,k] \\cdot B[k,j]\n",
    "$$\n",
    "\n",
    "![multiplicacion de matrices](resources/img/Imagen1.png)\n"
   ]
  },
  {
   "cell_type": "code",
   "execution_count": 1,
   "metadata": {
    "vscode": {
     "languageId": "cpp"
    }
   },
   "outputs": [],
   "source": [
    "#include <iostream>\n",
    "using namespace std;\n",
    "\n",
    "const int nmax = 100;;"
   ]
  },
  {
   "cell_type": "code",
   "execution_count": 2,
   "metadata": {
    "vscode": {
     "languageId": "cpp"
    }
   },
   "outputs": [],
   "source": [
    "struct matrix{\n",
    "    int r,c;\n",
    "    long long m[nmax][nmax];\n",
    "\n",
    "    matrix (int r, int c): r(r), c(c) {memset(m, 0, sizeof(m));}\n",
    "\n",
    "    matrix operator * (const matrix &b){\n",
    "        matrix ans(this->r, b.c);\n",
    "        for (int i = 0; i < ans.r; i++){\n",
    "            for (int j = 0; j < ans.c; j++){\n",
    "                for (int k = 0; k < b.r; k++){\n",
    "                    ans.m[i][j] += this->m[i][k] * b.m[k][j];\n",
    "                }\n",
    "            }\n",
    "        }\n",
    "        return ans;\n",
    "    }    \n",
    "};"
   ]
  },
  {
   "cell_type": "code",
   "execution_count": 7,
   "metadata": {
    "vscode": {
     "languageId": "cpp"
    }
   },
   "outputs": [],
   "source": [
    "int mult(){\n",
    "    matrix a(3, 2);\n",
    "    matrix b(2, 2);\n",
    "    matrix c = a*b;\n",
    "\n",
    "    for (int i = 0; i < c.r; i++){\n",
    "        for (int j = 0; j < c.c; j++){\n",
    "            cout << c.m[i][j] << \" \";\n",
    "        }\n",
    "        cout << endl;\n",
    "    }\n",
    "\n",
    "    return 0;\n",
    "}"
   ]
  },
  {
   "cell_type": "code",
   "execution_count": 8,
   "metadata": {
    "vscode": {
     "languageId": "cpp"
    }
   },
   "outputs": [
    {
     "name": "stdout",
     "output_type": "stream",
     "text": [
      "0 0 \n",
      "0 0 \n",
      "0 0 \n"
     ]
    }
   ],
   "source": [
    "mult();"
   ]
  },
  {
   "cell_type": "markdown",
   "metadata": {},
   "source": [
    "### Multiplicacion de matrices con modulo\n",
    "\n",
    "![Multiplicacion de matrices con modulo](resources/img/Imagen2.png)"
   ]
  },
  {
   "cell_type": "markdown",
   "metadata": {},
   "source": [
    "### Exponenciación de matrices\n",
    "\n",
    "La potencia de una matriz $A^k$ solo está definida si la matriz A es cuadrada. La definición de exponenciación de matrices es similar al concepto para números reales. Esta exponenciación se puede calcular de forma eficiente aplicando exponenciación binaria.\n"
   ]
  },
  {
   "cell_type": "code",
   "execution_count": 9,
   "metadata": {
    "vscode": {
     "languageId": "cpp"
    }
   },
   "outputs": [],
   "source": [
    "matrix pow(matrix &b, long long exp){\n",
    "    matrix ans(b.r, b.c);\n",
    "    for (int i = 0; i < ans.r; i++){\n",
    "        ans.m[i][i] = 1;\n",
    "    }\n",
    "\n",
    "    while (exp > 0){\n",
    "        if (exp & 1){\n",
    "            ans = ans * b;\n",
    "        }\n",
    "        b = b * b;\n",
    "        exp >>= 1;\n",
    "    }\n",
    "    \n",
    "    return ans;\n",
    "}"
   ]
  },
  {
   "cell_type": "markdown",
   "metadata": {},
   "source": [
    "### aplicaciones\n",
    "\n",
    "#### Recurrencias lineales\n",
    "\n",
    "##### fibonacci:\n",
    "Un ejemplo clásico de recurrencias lineales son los números de fibonacci que se definen de la siguiente forma:  \n",
    "f(0) = 1, f(1)  = 1, f(n) = f(n-1) + f(n-2)  \n",
    "Una forma de calcular el n ésimo número de fibonacci es de esta forma:  \n",
    "\n",
    "![exponenciacion matricial fibonacci](resources/img/Imagen3.png)\n",
    "\n",
    "##### Caso general\n",
    "\n",
    "De manera general, si tenemos una recurrencia lineal:\n",
    "$$\n",
    "a_n = c_1 a_{n-1} + c_2 a_{n-2} + \\dots + c_k a_{n-k}\n",
    "$$\n",
    "Con condiciones iniciales:\n",
    "$$\n",
    "a_1 = q_1 , a_2 = q_2 , \\dots, a_k = q_k\n",
    "$$\n",
    "Tenemos:\n",
    "\n",
    "![caso genaral recurrencias lineales](resources/img/Imagen4.png)\n",
    "\n",
    "si hay una constante en la recurrencia \n",
    "\n",
    "a_n = c_1 a_{n-1} + c_2 a_{n-2} + \\dots + c_k a_{n-k} + cns\n",
    "\n",
    "<img src=\"resources/img/imagen5.jpg\" alt=\"constante en la recurrencia\" width=\"400\" height=\"300\">\n",
    "\n"
   ]
  }
 ],
 "metadata": {
  "kernelspec": {
   "display_name": "C++17",
   "language": "C++17",
   "name": "xcpp17"
  },
  "language_info": {
   "codemirror_mode": "text/x-c++src",
   "file_extension": ".cpp",
   "mimetype": "text/x-c++src",
   "name": "C++17",
   "version": "17"
  }
 },
 "nbformat": 4,
 "nbformat_minor": 2
}
