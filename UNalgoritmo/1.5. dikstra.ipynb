{
 "cells": [
  {
   "cell_type": "markdown",
   "metadata": {},
   "source": [
    "# Dijkstra\n",
    "\n",
    "El algoritmo de Dijkstra es un algoritmo clásico utilizado para encontrar los caminos más cortos desde un nodo origen a todos los otros nodos en un grafo ponderado. Es especialmente útil en aplicaciones de redes, navegación y otros problemas que requieren la determinación de rutas óptimas.\n",
    "\n",
    "[Diapositivas](resources/pdf/Caminos%20mínimos%20Dijkstra.pdf)"
   ]
  },
  {
   "cell_type": "code",
   "execution_count": 1,
   "metadata": {
    "vscode": {
     "languageId": "cpp"
    }
   },
   "outputs": [],
   "source": [
    "#include <bits/stdc++.h>\n",
    "using namespace std;"
   ]
  },
  {
   "cell_type": "code",
   "execution_count": 2,
   "metadata": {
    "vscode": {
     "languageId": "cpp"
    }
   },
   "outputs": [],
   "source": [
    "const long long INF = 1e18;\n",
    "typedef pair<long long, int> pli;\n",
    "\n",
    "vector<long long> dijkstra(vector<vector<pair<int, int>>> &adj, int s, int n);"
   ]
  },
  {
   "cell_type": "code",
   "execution_count": 3,
   "metadata": {
    "vscode": {
     "languageId": "cpp"
    }
   },
   "outputs": [
    {
     "name": "stderr",
     "output_type": "stream",
     "text": [
      "input_line_10:2:79: error: function definition is not allowed here\n",
      " vector<long long> dijkstra(vector<vector<pair<int, int>>> &adj, int s, int n){\n",
      "                                                                              ^\n"
     ]
    },
    {
     "ename": "Interpreter Error",
     "evalue": "",
     "output_type": "error",
     "traceback": [
      "Interpreter Error: "
     ]
    }
   ],
   "source": [
    "vector<long long> dijkstra(vector<vector<pair<int, int>>> &adj, int s, int n){\n",
    "     //nodo inicio s, numero de vertices n\n",
    "    vector <long long>d(n, INF);\n",
    "    d[s] = 0;\n",
    "    priority_queue<pair<pli, vector<pli>, greater<pli>> pq;\n",
    "    pq.push({0, s});\n",
    "    while (!pq.empty()){\n",
    "        pli par = pq.top().second; pq.pop();\n",
    "        int u = par.second;\n",
    "        long long dist = par.first;\n",
    "        if (dist > d[u]) continue;\n",
    "        for (pair <int, int> p: adj[u]){\n",
    "            int v = p.first;\n",
    "            long long w = p.second;\n",
    "            if (d[v] > d[u] + w){\n",
    "                d[v] = d[u] + w;\n",
    "                pq.push({d[v], v});\n",
    "            }\n",
    "        }\n",
    "    }\n",
    "\n",
    "}"
   ]
  },
  {
   "cell_type": "code",
   "execution_count": null,
   "metadata": {
    "vscode": {
     "languageId": "cpp"
    }
   },
   "outputs": [],
   "source": [
    "int main(){\n",
    "    vector<vector<pair<int, int>>> adj;\n",
    "    int u,v,w; cin >> u >> v >> w;\n",
    "    adj[u].pb({v,w});\n",
    "    // adj[v].pb({u,w}); // si es bidirecional\n",
    "    return 0;\n",
    "}"
   ]
  }
 ],
 "metadata": {
  "kernelspec": {
   "display_name": "C++17",
   "language": "C++17",
   "name": "xcpp17"
  },
  "language_info": {
   "codemirror_mode": "text/x-c++src",
   "file_extension": ".cpp",
   "mimetype": "text/x-c++src",
   "name": "C++17",
   "version": "17"
  }
 },
 "nbformat": 4,
 "nbformat_minor": 2
}
